{
 "cells": [
  {
   "cell_type": "code",
   "execution_count": null,
   "id": "8a935d51",
   "metadata": {},
   "outputs": [],
   "source": [
    "text = "
   ]
  },
  {
   "cell_type": "code",
   "execution_count": null,
   "id": "c5736b61",
   "metadata": {},
   "outputs": [],
   "source": [
    "def palindrome(text):\n",
    "    return text == text[::-1]"
   ]
  }
 ],
 "metadata": {
  "kernelspec": {
   "display_name": "Python 3",
   "language": "python",
   "name": "python3"
  },
  "language_info": {
   "name": "python",
   "version": "3.11.9"
  }
 },
 "nbformat": 4,
 "nbformat_minor": 5
}
