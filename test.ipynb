{
 "cells": [
  {
   "cell_type": "code",
   "execution_count": null,
   "id": "8a935d51",
   "metadata": {},
   "outputs": [],
   "source": [
    "text = input(\"Enter text: \")"
   ]
  },
  {
   "cell_type": "code",
   "execution_count": null,
   "id": "c5736b61",
   "metadata": {},
   "outputs": [],
   "source": [
    "def palindrome(text):\n",
    "    return text == text[::-1]"
   ]
  },
  {
   "cell_type": "code",
   "execution_count": null,
   "id": "b8041386",
   "metadata": {},
   "outputs": [],
   "source": [
    "#default > div.container-fluid.page > div > div > div > section > div:nth-child(2) > ol > li:nth-child(1) > article > h3\n",
    "#default > div.container-fluid.page > div > div > div > section > div:nth-child(2) > ol > li:nth-child(1) > article > h3 > a"
   ]
  },
  {
   "cell_type": "code",
   "execution_count": 2,
   "id": "438bb578",
   "metadata": {},
   "outputs": [
    {
     "name": "stdout",
     "output_type": "stream",
     "text": [
      "racecar is a palindrome\n",
      "madam is a palindrome\n",
      "hello is not a palindrome\n",
      "level is a palindrome\n",
      "world is not a palindrome\n",
      "python is not a palindrome\n",
      "civic is a palindrome\n",
      "deified is a palindrome\n",
      "radar is a palindrome\n",
      "refer is a palindrome\n"
     ]
    }
   ],
   "source": [
    "def palindrome2(text):\n",
    "    for i in range(len(text)):\n",
    "        if text[i] != text[len(text) - i - 1]:\n",
    "            return False\n",
    "    return True\n",
    "\n",
    "test_cases = [\n",
    "    \"racecar\",\n",
    "    \"madam\",\n",
    "    \"hello\",\n",
    "    \"level\",\n",
    "    \"world\",\n",
    "    \"python\",\n",
    "    \"civic\",\n",
    "    \"deified\",\n",
    "    \"radar\",\n",
    "    \"refer\"\n",
    "]\n",
    "for test in test_cases:\n",
    "    if palindrome2(test):\n",
    "        print(f\"{test} is a palindrome\")\n",
    "    else:\n",
    "        print(f\"{test} is not a palindrome\")"
   ]
  },
  {
   "cell_type": "code",
   "execution_count": null,
   "id": "a3a31b4d",
   "metadata": {},
   "outputs": [],
   "source": [
    "# another leetcode problem\n",
    "\n",
    "# this time we will build another algorithm for another leetcode problem\n",
    "\n",
    "# this time we will build another algorithm for another leetcode problem\n",
    "\n",
    "# this problem is about finding the longest common prefix in an array of strings\n",
    "\n",
    "def longest_common_prefix(strs):\n",
    "    if not strs:\n",
    "        return \"\"\n",
    "    prefix = strs[0]\n",
    "    for i in range(1, len(strs)):\n",
    "        while strs[i].find(prefix) != 0:\n",
    "            prefix = prefix[:-1]\n",
    "            if not prefix:\n",
    "                return \"\"\n",
    "    return prefix"
   ]
  },
  {
   "cell_type": "code",
   "execution_count": 1,
   "id": "41aaeef5",
   "metadata": {},
   "outputs": [
    {
     "name": "stdout",
     "output_type": "stream",
     "text": [
      "this\n"
     ]
    }
   ],
   "source": [
    "print('this')"
   ]
  },
  {
   "cell_type": "code",
   "execution_count": 1,
   "id": "ad8eff30",
   "metadata": {},
   "outputs": [
    {
     "name": "stdout",
     "output_type": "stream",
     "text": [
      "fl\n",
      "\n",
      "a\n",
      "\n",
      "a\n",
      "a\n",
      "a\n"
     ]
    }
   ],
   "source": [
    "# solving another leetcode problem\n",
    "# this time we will build another algorithm for another leetcode problem\n",
    "# this problem is about finding the longest common prefix in an array of strings\n",
    "def longest_common_prefix(strs):\n",
    "    if not strs:\n",
    "        return \"\"\n",
    "    prefix = strs[0]\n",
    "    for i in range(1, len(strs)):\n",
    "        while strs[i].find(prefix) != 0:\n",
    "            prefix = prefix[:-1]\n",
    "            if not prefix:\n",
    "                return \"\"\n",
    "    return prefix\n",
    "print(longest_common_prefix([\"flower\", \"flow\", \"flight\"]))\n",
    "print(longest_common_prefix([\"dog\", \"racecar\", \"car\"]))\n",
    "print(longest_common_prefix([\"a\"]))\n",
    "print(longest_common_prefix([\"a\", \"b\"]))\n",
    "print(longest_common_prefix([\"a\", \"a\"]))\n",
    "print(longest_common_prefix([\"a\", \"aa\"]))\n",
    "print(longest_common_prefix([\"a\", \"aa\", \"aaa\"]))"
   ]
  },
  {
   "cell_type": "code",
   "execution_count": null,
   "id": "c415debb",
   "metadata": {},
   "outputs": [],
   "source": [
    "# 3rd leetcode problem"
   ]
  },
  {
   "cell_type": "code",
   "execution_count": 2,
   "id": "9da062b1",
   "metadata": {},
   "outputs": [
    {
     "name": "stdout",
     "output_type": "stream",
     "text": [
      "6\n",
      "9\n"
     ]
    }
   ],
   "source": [
    "# LeetCode problem: Trapping Rain Water\n",
    "# Given n non-negative integers representing an elevation map where the width of each bar is 1, compute how much water it can trap after raining.\n",
    "\n",
    "def trap(height):\n",
    "    if not height:\n",
    "        return 0\n",
    "\n",
    "    left, right = 0, len(height) - 1\n",
    "    left_max, right_max = height[left], height[right]\n",
    "    water_trapped = 0\n",
    "\n",
    "    while left < right:\n",
    "        if left_max < right_max:\n",
    "            left += 1\n",
    "            left_max = max(left_max, height[left])\n",
    "            water_trapped += max(0, left_max - height[left])\n",
    "        else:\n",
    "            right -= 1\n",
    "            right_max = max(right_max, height[right])\n",
    "            water_trapped += max(0, right_max - height[right])\n",
    "\n",
    "    return water_trapped\n",
    "\n",
    "# Example test cases\n",
    "print(trap([0, 1, 0, 2, 1, 0, 1, 3, 2, 1, 2, 1]))  # Output: 6\n",
    "print(trap([4, 2, 0, 3, 2, 5]))                   # Output: 9"
   ]
  },
  {
   "cell_type": "code",
   "execution_count": 1,
   "id": "cc5e514e",
   "metadata": {},
   "outputs": [
    {
     "name": "stdout",
     "output_type": "stream",
     "text": [
      "[[1, 6], [8, 10], [15, 18]]\n",
      "[[1, 4]]\n",
      "[[0, 4]]\n",
      "[[1, 4], [5, 6]]\n",
      "[[1, 4], [5, 6], [7, 8]]\n"
     ]
    }
   ],
   "source": [
    "# 4th leetcode problem\n",
    "# LeetCode problem: Merge Intervals\n",
    "# Given a collection of intervals, merge all overlapping intervals.'\n",
    "\n",
    "def merge_intervals(intervals):\n",
    "    intervals.sort(key=lambda x: x[0])\n",
    "    merged = []\n",
    "    for interval in intervals:\n",
    "        if not merged or merged[-1][1] < interval[0]:\n",
    "            merged.append(interval)\n",
    "        else:\n",
    "            merged[-1][1] = max(merged[-1][1], interval[1])\n",
    "    return merged\n",
    "# Example test cases\n",
    "print(merge_intervals([[1, 3], [2, 6], [8, 10], [15, 18]]))  # Output: [[1, 6], [8, 10], [15, 18]]\n",
    "print(merge_intervals([[1, 4], [2, 3]]))                   # Output: [[1, 4]]\n",
    "print(merge_intervals([[1, 4], [0, 4]]))                   # Output: [[0, 4]]\n",
    "print(merge_intervals([[1, 4], [2, 3], [5, 6]]))           # Output: [[1, 4], [5, 6]]\n",
    "print(merge_intervals([[1, 4], [2, 3], [5, 6], [7, 8]]))   # Output: [[1, 4], [5, 6], [7, 8]]"
   ]
  },
  {
   "cell_type": "code",
   "execution_count": 2,
   "id": "c2af2a2e",
   "metadata": {},
   "outputs": [
    {
     "name": "stdout",
     "output_type": "stream",
     "text": [
      "True\n",
      "True\n",
      "False\n",
      "False\n",
      "True\n",
      "True\n",
      "False\n",
      "False\n",
      "False\n",
      "False\n"
     ]
    }
   ],
   "source": [
    "# 5th leetcode problem\n",
    "# LeetCode problem: Valid Parentheses\n",
    "# Given a string containing just the characters '(', ')', '{', '}', '[' and ']', determine if the input string is valid.\n",
    "def is_valid_parentheses(s):\n",
    "    stack = []\n",
    "    mapping = {')': '(', '}': '{', ']': '['}\n",
    "    for char in s:\n",
    "        if char in mapping:\n",
    "            top_element = stack.pop() if stack else '#'\n",
    "            if mapping[char] != top_element:\n",
    "                return False\n",
    "        else:\n",
    "            stack.append(char)\n",
    "    return not stack\n",
    "# Example test cases\n",
    "print(is_valid_parentheses(\"()\"))          # Output: True\n",
    "print(is_valid_parentheses(\"()[]{}\"))      # Output: True\n",
    "print(is_valid_parentheses(\"(]\"))          # Output: False\n",
    "print(is_valid_parentheses(\"([)]\"))        # Output: False\n",
    "print(is_valid_parentheses(\"{[]}\"))        # Output: True\n",
    "print(is_valid_parentheses(\"{{{{}}}}\"))    # Output: True\n",
    "print(is_valid_parentheses(\"{{{{}}}}}\"))   # Output: False\n",
    "print(is_valid_parentheses(\"{{{{}}}}}}\"))  # Output: False\n",
    "print(is_valid_parentheses(\"{{{{}}}}}}}\")) # Output: False\n",
    "print(is_valid_parentheses(\"{{{{}}}}}}}}\")) # Output: False"
   ]
  },
  {
   "cell_type": "code",
   "execution_count": 2,
   "id": "998a936a",
   "metadata": {},
   "outputs": [
    {
     "name": "stdout",
     "output_type": "stream",
     "text": [
      "[[-1, -1, 2], [-1, 0, 1]]\n",
      "[]\n",
      "[]\n",
      "[]\n",
      "[[-2, 0, 2], [-1, 0, 1]]\n",
      "[[-2, -1, 3], [-2, 0, 2], [-1, 0, 1]]\n",
      "[[-3, 0, 3], [-3, 1, 2], [-2, -1, 3], [-2, 0, 2], [-1, 0, 1]]\n",
      "[[-3, -1, 4], [-3, 0, 3], [-3, 1, 2], [-2, -1, 3], [-2, 0, 2], [-1, 0, 1]]\n",
      "[[-4, 0, 4], [-4, 1, 3], [-3, -1, 4], [-3, 0, 3], [-3, 1, 2], [-2, -1, 3], [-2, 0, 2], [-1, 0, 1]]\n",
      "[[-4, -1, 5], [-4, 0, 4], [-4, 1, 3], [-3, -2, 5], [-3, -1, 4], [-3, 0, 3], [-3, 1, 2], [-2, -1, 3], [-2, 0, 2], [-1, 0, 1]]\n"
     ]
    }
   ],
   "source": [
    "# 6th leetcode problem\n",
    "# LeetCode problem: 3Sum\n",
    "# Given an integer array nums, return all the triplets [nums[i], nums[j], nums[k]] such that i != j, i != k, and j != k, and nums[i] + nums[j] + nums[k] == 0.\n",
    "def three_sum(nums):\n",
    "    nums.sort()\n",
    "    result = []\n",
    "    for i in range(len(nums) - 2):\n",
    "        if i > 0 and nums[i] == nums[i - 1]:\n",
    "            continue\n",
    "        left, right = i + 1, len(nums) - 1\n",
    "        while left < right:\n",
    "            total = nums[i] + nums[left] + nums[right]\n",
    "            if total < 0:\n",
    "                left += 1\n",
    "            elif total > 0:\n",
    "                right -= 1\n",
    "            else:\n",
    "                result.append([nums[i], nums[left], nums[right]])\n",
    "                while left < right and nums[left] == nums[left + 1]:\n",
    "                    left += 1\n",
    "                while left < right and nums[right] == nums[right - 1]:\n",
    "                    right -= 1\n",
    "                left += 1\n",
    "                right -= 1\n",
    "    return result\n",
    "\n",
    "# Example test cases\n",
    "print(three_sum([-1, 0, 1, 2, -1, -4]))  # Output: [[-1, -1, 2], [-1, 0, 1]]\n",
    "print(three_sum([]))                      # Output: []\n",
    "print(three_sum([0]))                     # Output: []\n",
    "print(three_sum([1, 2, -2, -1]))          # Output: [[-2, -1, 1]]\n",
    "print(three_sum([1, 2, -2, -1, 0]))       # Output: [[-2, -1, 1], [-1, 0, 1]]\n",
    "print(three_sum([1, 2, -2, -1, 0, 3]))    # Output: [[-2, -1, 1], [-1, 0, 1], [0, 1, 2]]\n",
    "print(three_sum([1, 2, -2, -1, 0, 3, -3])) # Output: [[-3, -2, 2], [-2, -1, 1], [-1, 0, 1], [0, 1, 2]]\n",
    "print(three_sum([1, 2, -2, -1, 0, 3, -3, 4])) # Output: [[-3, -2, 2], [-2, -1, 1], [-1, 0, 1], [0, 1, 2]]\n",
    "print(three_sum([1, 2, -2, -1, 0, 3, -3, 4, -4])) # Output: [[-4, -3, 3], [-3, -2, 2], [-2, -1, 1], [-1, 0, 1], [0, 1, 2]]\n",
    "print(three_sum([1, 2, -2, -1, 0, 3, -3, 4, -4, 5])) # Output: [[-4, -3, 3], [-3, -2, 2], [-2, -1, 1], [-1, 0, 1], [0, 1, 2], [1, 2, -3]]"
   ]
  },
  {
   "cell_type": "code",
   "execution_count": 3,
   "id": "48e49501",
   "metadata": {},
   "outputs": [
    {
     "name": "stdout",
     "output_type": "stream",
     "text": [
      "49\n",
      "1\n",
      "16\n",
      "2\n",
      "4\n",
      "6\n",
      "6\n",
      "9\n"
     ]
    }
   ],
   "source": [
    "# 7th leetcode problem\n",
    "# LeetCode problem: Container With Most Water\n",
    "# Given n non-negative integers a1, a2, ..., an, where each represents a point at coordinate (i, ai). n vertical lines are drawn such that the two endpoints of line i is at (i, ai) and (i, 0). Find two lines, which together with x-axis forms a container, such that the container contains the most water.\n",
    "def max_area(height):\n",
    "    left, right = 0, len(height) - 1\n",
    "    max_area = 0\n",
    "\n",
    "    while left < right:\n",
    "        width = right - left\n",
    "        current_height = min(height[left], height[right])\n",
    "        current_area = width * current_height\n",
    "        max_area = max(max_area, current_area)\n",
    "\n",
    "        if height[left] < height[right]:\n",
    "            left += 1\n",
    "        else:\n",
    "            right -= 1\n",
    "\n",
    "    return max_area\n",
    "# Example test cases\n",
    "print(max_area([1, 8, 6, 2, 5, 4, 8, 3, 7]))  # Output: 49\n",
    "print(max_area([1, 1]))                      # Output: 1\n",
    "print(max_area([4, 3, 2, 1, 4]))            # Output: 16\n",
    "print(max_area([1, 2, 1]))                  # Output: 2\n",
    "print(max_area([1, 2, 4, 3]))                # Output: 4\n",
    "print(max_area([1, 2, 3, 4, 5]))             # Output: 6\n",
    "print(max_area([5, 4, 3, 2, 1]))             # Output: 6\n",
    "print(max_area([1, 2, 3, 4, 5, 6]))          # Output: 12\n"
   ]
  },
  {
   "cell_type": "code",
   "execution_count": 4,
   "id": "65494f77",
   "metadata": {},
   "outputs": [
    {
     "name": "stdout",
     "output_type": "stream",
     "text": [
      "49\n",
      "1\n",
      "16\n",
      "2\n",
      "4\n",
      "6\n",
      "6\n",
      "9\n",
      "9\n"
     ]
    }
   ],
   "source": [
    "# 7th leetcode problem\n",
    "# LeetCode problem: Container With Most Water\n",
    "# Given n non-negative integers a1, a2, ..., an, where each represents a point at coordinate (i, ai). n vertical lines are drawn such that the two endpoints of line i is at (i, ai) and (i, 0). Find two lines, which together with x-axis forms a container, such that the container contains the most water.\n",
    "def max_area(height):\n",
    "    left, right = 0, len(height) - 1\n",
    "    max_area = 0\n",
    "\n",
    "    while left < right:\n",
    "        width = right - left\n",
    "        current_height = min(height[left], height[right])\n",
    "        current_area = width * current_height\n",
    "        max_area = max(max_area, current_area)\n",
    "\n",
    "        if height[left] < height[right]:\n",
    "            left += 1\n",
    "        else:\n",
    "            right -= 1\n",
    "\n",
    "    return max_area\n",
    "# Example test cases\n",
    "print(max_area([1, 8, 6, 2, 5, 4, 8, 3, 7]))  # Output: 49\n",
    "print(max_area([1, 1]))                      # Output: 1\n",
    "print(max_area([4, 3, 2, 1, 4]))            # Output: 16\n",
    "print(max_area([1, 2, 1]))                  # Output: 2\n",
    "print(max_area([1, 2, 4, 3]))                # Output: 4\n",
    "print(max_area([1, 2, 3, 4, 5]))             # Output: 6\n",
    "print(max_area([5, 4, 3, 2, 1]))             # Output: 6\n",
    "print(max_area([1, 2, 3, 4, 5, 6]))          # Output: 12\n",
    "print(max_area([6, 5, 4, 3, 2, 1]))          # Output: 12"
   ]
  },
  {
   "cell_type": "code",
   "execution_count": 6,
   "id": "411a7eec",
   "metadata": {},
   "outputs": [
    {
     "name": "stdout",
     "output_type": "stream",
     "text": [
      "3\n",
      "1\n",
      "3\n",
      "0\n",
      "1\n",
      "2\n",
      "3\n",
      "5\n"
     ]
    }
   ],
   "source": [
    "# 8th leetcode problem\n",
    "# LeetCode problem: Longest Substring Without Repeating Characters\n",
    "# Given a string s, find the length of the longest substring without repeating characters.\n",
    "def length_of_longest_substring(s):\n",
    "    char_index_map = {}\n",
    "    left = 0\n",
    "    max_length = 0\n",
    "\n",
    "    for right in range(len(s)):\n",
    "        if s[right] in char_index_map:\n",
    "            left = max(left, char_index_map[s[right]] + 1)\n",
    "        char_index_map[s[right]] = right\n",
    "        max_length = max(max_length, right - left + 1)\n",
    "\n",
    "    return max_length\n",
    "# Example test cases\n",
    "print(length_of_longest_substring(\"abcabcbb\"))  # Output: 3\n",
    "print(length_of_longest_substring(\"bbbbb\"))     # Output: 1\n",
    "print(length_of_longest_substring(\"pwwkew\"))    # Output: 3\n",
    "print(length_of_longest_substring(\"\"))           # Output: 0\n",
    "print(length_of_longest_substring(\"a\"))          # Output: 1\n",
    "print(length_of_longest_substring(\"au\"))         # Output: 2\n",
    "print(length_of_longest_substring(\"dvdf\"))       # Output: 3\n",
    "print(length_of_longest_substring(\"abcde\"))      # Output: 5"
   ]
  },
  {
   "cell_type": "code",
   "execution_count": 1,
   "id": "93dea77a",
   "metadata": {},
   "outputs": [
    {
     "name": "stdout",
     "output_type": "stream",
     "text": [
      "aba\n",
      "bb\n",
      "a\n",
      "c\n",
      "racecar\n",
      "bb\n",
      "aabbaa\n",
      "abcba\n",
      "abccba\n",
      "abccba\n"
     ]
    }
   ],
   "source": [
    "# 9 th leetcode problem\n",
    "# LeetCode problem: Longest Palindromic Substring\n",
    "# Given a string s, return the longest palindromic substring in s.\n",
    "def longest_palindromic_substring(s):\n",
    "    if not s:\n",
    "        return \"\"\n",
    "    start, end = 0, 0\n",
    "\n",
    "    for i in range(len(s)):\n",
    "        len1 = expand_around_center(s, i, i)\n",
    "        len2 = expand_around_center(s, i, i + 1)\n",
    "        max_len = max(len1, len2)\n",
    "\n",
    "        if max_len > end - start:\n",
    "            start = i - (max_len - 1) // 2\n",
    "            end = i + max_len // 2\n",
    "\n",
    "    return s[start:end + 1]\n",
    "def expand_around_center(s, left, right):\n",
    "    while left >= 0 and right < len(s) and s[left] == s[right]:\n",
    "        left -= 1\n",
    "        right += 1\n",
    "    return right - left - 1\n",
    "\n",
    "# Example test cases\n",
    "print(longest_palindromic_substring(\"babad\"))  # Output: \"bab\" or \"aba\"\n",
    "print(longest_palindromic_substring(\"cbbd\"))   # Output: \"bb\"\n",
    "print(longest_palindromic_substring(\"a\"))      # Output: \"a\"\n",
    "print(longest_palindromic_substring(\"ac\"))     # Output: \"a\" or \"c\"\n",
    "print(longest_palindromic_substring(\"racecar\")) # Output: \"racecar\"\n",
    "print(longest_palindromic_substring(\"aabb\"))    # Output: \"aa\" or \"bb\"\n",
    "print(longest_palindromic_substring(\"aabbaa\"))  # Output: \"aabbaa\"\n",
    "print(longest_palindromic_substring(\"abcba\"))   # Output: \"abcba\"\n",
    "print(longest_palindromic_substring(\"abccba\"))  # Output: \"abccba\"\n",
    "print(longest_palindromic_substring(\"abccba\"))  # Output: \"abccba\"\n"
   ]
  },
  {
   "cell_type": "code",
   "execution_count": 3,
   "id": "f1803a7e",
   "metadata": {},
   "outputs": [
    {
     "name": "stdout",
     "output_type": "stream",
     "text": [
      "3\n",
      "3\n",
      "0\n",
      "3\n",
      "3\n",
      "3\n"
     ]
    }
   ],
   "source": [
    "# 10th leetcode problem\n",
    "# LeetCode problem: Longest Common Subsequence\n",
    "# Given two strings text1 and text2, return the length of their longest common subsequence.\n",
    "def longest_common_subsequence(text1, text2):\n",
    "    m, n = len(text1), len(text2)\n",
    "    dp = [[0] * (n + 1) for _ in range(m + 1)]\n",
    "\n",
    "    for i in range(1, m + 1):\n",
    "        for j in range(1, n + 1):\n",
    "            if text1[i - 1] == text2[j - 1]:\n",
    "                dp[i][j] = dp[i - 1][j - 1] + 1\n",
    "            else:\n",
    "                dp[i][j] = max(dp[i - 1][j], dp[i][j - 1])\n",
    "\n",
    "    return dp[m][n]\n",
    "# Example test cases\n",
    "print(longest_common_subsequence(\"abcde\", \"ace\"))  # Output: 3\n",
    "print(longest_common_subsequence(\"abc\", \"abc\"))    # Output: 3\n",
    "print(longest_common_subsequence(\"abc\", \"def\"))    # Output: 0\n",
    "print(longest_common_subsequence(\"abcde\", \"acef\")) # Output: 2\n",
    "print(longest_common_subsequence(\"abcde\", \"ace\"))  # Output: 3\n",
    "print(longest_common_subsequence(\"abcde\", \"aceg\")) # Output: 3"
   ]
  },
  {
   "cell_type": "code",
   "execution_count": 1,
   "id": "b8a4b638",
   "metadata": {},
   "outputs": [
    {
     "name": "stdout",
     "output_type": "stream",
     "text": [
      "2\n",
      "0\n",
      "3\n",
      "2\n",
      "6\n",
      "9\n",
      "6\n",
      "7\n",
      "8\n"
     ]
    }
   ],
   "source": [
    "# leetcode problem 11\n",
    "# LeetCode problem: 3Sum Closest\n",
    "# Given an integer array nums of length n and an integer target, find three integers in nums such that the sum is closest to target. Return the sum of the three integers.\n",
    "def three_sum_closest(nums, target):\n",
    "    nums.sort()\n",
    "    closest_sum = float('inf')\n",
    "\n",
    "    for i in range(len(nums) - 2):\n",
    "        left, right = i + 1, len(nums) - 1\n",
    "        while left < right:\n",
    "            current_sum = nums[i] + nums[left] + nums[right]\n",
    "            if abs(current_sum - target) < abs(closest_sum - target):\n",
    "                closest_sum = current_sum\n",
    "\n",
    "            if current_sum < target:\n",
    "                left += 1\n",
    "            elif current_sum > target:\n",
    "                right -= 1\n",
    "            else:\n",
    "                return current_sum\n",
    "\n",
    "    return closest_sum\n",
    "# Example test cases\n",
    "print(three_sum_closest([-1, 2, 1, -4], 1))  # Output: 2\n",
    "print(three_sum_closest([0, 0, 0], 1))       # Output: 0\n",
    "print(three_sum_closest([1, 1, 1, 1], 0))    # Output: 3\n",
    "print(three_sum_closest([-1, 2, 1, -4], 2))  # Output: 2\n",
    "print(three_sum_closest([1, 2, 3, 4], 6))    # Output: 6\n",
    "print(three_sum_closest([1, 2, 3, 4], 10))   # Output: 9\n",
    "print(three_sum_closest([1, 2, 3, 4], 5))    # Output: 6\n",
    "print(three_sum_closest([1, 2, 3, 4], 7))    # Output: 7\n",
    "print(three_sum_closest([1, 2, 3, 4], 8))    # Output: 8"
   ]
  },
  {
   "cell_type": "code",
   "execution_count": 2,
   "id": "fabf3698",
   "metadata": {},
   "outputs": [
    {
     "name": "stdout",
     "output_type": "stream",
     "text": [
      "III\n",
      "IV\n",
      "IX\n",
      "LVIII\n",
      "MCMXCIV\n",
      "I\n",
      "II\n",
      "V\n"
     ]
    }
   ],
   "source": [
    "# leetcode problem 12\n",
    "# LeetCode problem: Integer to Roman\n",
    "# Given an integer num, convert it to a Roman numeral.\n",
    "def int_to_roman(num):\n",
    "    val = [\n",
    "        1000, 900, 500, 400,\n",
    "        100, 90, 50, 40,\n",
    "        10, 9, 5, 4,\n",
    "        1\n",
    "    ]\n",
    "    syms = [\n",
    "        \"M\", \"CM\", \"D\", \"CD\",\n",
    "        \"C\", \"XC\", \"L\", \"XL\",\n",
    "        \"X\", \"IX\", \"V\", \"IV\",\n",
    "        \"I\"\n",
    "    ]\n",
    "    roman_num = ''\n",
    "    i = 0\n",
    "    while num > 0:\n",
    "        for _ in range(num // val[i]):\n",
    "            roman_num += syms[i]\n",
    "            num -= val[i]\n",
    "        i += 1\n",
    "    return roman_num\n",
    "# Example test cases\n",
    "print(int_to_roman(3))    # Output: \"III\"\n",
    "print(int_to_roman(4))    # Output: \"IV\"\n",
    "print(int_to_roman(9))    # Output: \"IX\"\n",
    "print(int_to_roman(58))   # Output: \"LVIII\"\n",
    "print(int_to_roman(1994)) # Output: \"MCMXCIV\"\n",
    "print(int_to_roman(1))    # Output: \"I\"\n",
    "print(int_to_roman(2))    # Output: \"II\"\n",
    "print(int_to_roman(5))    # Output: \"V\""
   ]
  },
  {
   "cell_type": "code",
   "execution_count": 4,
   "id": "c0997edb",
   "metadata": {},
   "outputs": [
    {
     "name": "stdout",
     "output_type": "stream",
     "text": [
      "3\n",
      "4\n",
      "9\n",
      "58\n",
      "1994\n"
     ]
    }
   ],
   "source": [
    "# leetcode problem 13\n",
    "# Next after Integer to Roman we have Roman to Integer\n",
    "# LeetCode problem: Roman to Integer\n",
    "# Given a Roman numeral, convert it to an integer.\n",
    "def roman_to_int(s):\n",
    "    roman_dict = {\n",
    "        'I': 1,\n",
    "        'V': 5,\n",
    "        'X': 10,\n",
    "        'L': 50,\n",
    "        'C': 100,\n",
    "        'D': 500,\n",
    "        'M': 1000\n",
    "    }\n",
    "    total = 0\n",
    "    prev_value = 0\n",
    "\n",
    "    for char in s:\n",
    "        current_value = roman_dict[char]\n",
    "        if current_value > prev_value:\n",
    "            total += current_value - 2 * prev_value\n",
    "        else:\n",
    "            total += current_value\n",
    "        prev_value = current_value\n",
    "\n",
    "    return total\n",
    "# Example test cases\n",
    "print(roman_to_int(\"III\"))    # Output: 3\n",
    "print(roman_to_int(\"IV\"))     # Output: 4\n",
    "print(roman_to_int(\"IX\"))     # Output: 9\n",
    "print(roman_to_int(\"LVIII\"))  # Output: 58\n",
    "print(roman_to_int(\"MCMXCIV\")) # Output: 1994"
   ]
  },
  {
   "cell_type": "code",
   "execution_count": 5,
   "id": "3227f4e6",
   "metadata": {},
   "outputs": [
    {
     "name": "stdout",
     "output_type": "stream",
     "text": [
      "fl\n",
      "\n",
      "a\n",
      "\n",
      "a\n",
      "a\n",
      "a\n"
     ]
    }
   ],
   "source": [
    "# leetcode problem 14\n",
    "# LeetCode problem: Longest Common Prefix\n",
    "# Write a function to find the longest common prefix string amongst an array of strings.\n",
    "def longest_common_prefix(strs):\n",
    "    if not strs:\n",
    "        return \"\"\n",
    "    prefix = strs[0]\n",
    "    for i in range(1, len(strs)):\n",
    "        while strs[i].find(prefix) != 0:\n",
    "            prefix = prefix[:-1]\n",
    "            if not prefix:\n",
    "                return \"\"\n",
    "    return prefix\n",
    "\n",
    "\n",
    "# Example test cases\n",
    "print(longest_common_prefix([\"flower\", \"flow\", \"flight\"]))  # Output: \"fl\"\n",
    "print(longest_common_prefix([\"dog\", \"racecar\", \"car\"]))    # Output: \"\"\n",
    "print(longest_common_prefix([\"a\"]))                         # Output: \"a\"\n",
    "print(longest_common_prefix([\"a\", \"b\"]))                    # Output: \"\"\n",
    "print(longest_common_prefix([\"a\", \"aa\"]))                   # Output: \"a\"\n",
    "print(longest_common_prefix([\"a\", \"aa\", \"aaa\"]))            # Output: \"a\"\n",
    "print(longest_common_prefix([\"a\", \"aa\", \"aaa\", \"aaaa\"]))    # Output: \"a\""
   ]
  },
  {
   "cell_type": "code",
   "execution_count": 1,
   "id": "e97e8d3f",
   "metadata": {},
   "outputs": [
    {
     "name": "stdout",
     "output_type": "stream",
     "text": [
      "[[-1, -1, 2], [-1, 0, 1]]\n",
      "[]\n",
      "[]\n",
      "[]\n",
      "[[-2, 0, 2], [-1, 0, 1]]\n",
      "[[-2, -1, 3], [-2, 0, 2], [-1, 0, 1]]\n",
      "[[-3, 0, 3], [-3, 1, 2], [-2, -1, 3], [-2, 0, 2], [-1, 0, 1]]\n"
     ]
    }
   ],
   "source": [
    "# leetcode problem 15\n",
    "# LeetCode problem: 3Sum\n",
    "# Given an integer array nums, return all the triplets [nums[i], nums[j], nums[k]] such that i != j, i != k, and j != k, and nums[i] + nums[j] + nums[k] == 0.\n",
    "\n",
    "def three_sum(nums):\n",
    "    nums.sort()\n",
    "    result = []\n",
    "    for i in range(len(nums) - 2):\n",
    "        if i > 0 and nums[i] == nums[i - 1]:\n",
    "            continue\n",
    "        left, right = i + 1, len(nums) - 1\n",
    "        while left < right:\n",
    "            total = nums[i] + nums[left] + nums[right]\n",
    "            if total < 0:\n",
    "                left += 1\n",
    "            elif total > 0:\n",
    "                right -= 1\n",
    "            else:\n",
    "                result.append([nums[i], nums[left], nums[right]])\n",
    "                while left < right and nums[left] == nums[left + 1]:\n",
    "                    left += 1\n",
    "                while left < right and nums[right] == nums[right - 1]:\n",
    "                    right -= 1\n",
    "                left += 1\n",
    "                right -= 1\n",
    "    return result\n",
    "# Example test cases\n",
    "print(three_sum([-1, 0, 1, 2, -1, -4]))  # Output: [[-1, -1, 2], [-1, 0, 1]]\n",
    "print(three_sum([]))                      # Output: []\n",
    "print(three_sum([0]))                     # Output: []\n",
    "print(three_sum([1, 2, -2, -1]))          # Output: [[-2, -1, 1]]\n",
    "print(three_sum([1, 2, -2, -1, 0]))       # Output: [[-2, -1, 1], [-1, 0, 1]]\n",
    "print(three_sum([1, 2, -2, -1, 0, 3]))    # Output: [[-2, -1, 1], [-1, 0, 1], [0, 1, 2]]\n",
    "print(three_sum([1, 2, -2, -1, 0, 3, -3])) # Output: [[-3, -2, 2], [-2, -1, 1], [-1, 0, 1], [0, 1, 2]]"
   ]
  },
  {
   "cell_type": "code",
   "execution_count": null,
   "id": "5f88f43e",
   "metadata": {},
   "outputs": [],
   "source": []
  }
 ],
 "metadata": {
  "kernelspec": {
   "display_name": "Python 3",
   "language": "python",
   "name": "python3"
  },
  "language_info": {
   "codemirror_mode": {
    "name": "ipython",
    "version": 3
   },
   "file_extension": ".py",
   "mimetype": "text/x-python",
   "name": "python",
   "nbconvert_exporter": "python",
   "pygments_lexer": "ipython3",
   "version": "3.11.9"
  }
 },
 "nbformat": 4,
 "nbformat_minor": 5
}
