{
 "cells": [
  {
   "cell_type": "code",
   "execution_count": 1,
   "id": "c8b78681",
   "metadata": {},
   "outputs": [
    {
     "name": "stdout",
     "output_type": "stream",
     "text": [
      "Random LeetCode Problem:\n",
      "ID: 4\n",
      "Title: Median of Two Sorted Arrays\n",
      "Difficulty: Hard\n"
     ]
    }
   ],
   "source": [
    "import random\n",
    "\n",
    "# List of random LeetCode problems\n",
    "leetcode_problems = [\n",
    "    {\"id\": 1, \"title\": \"Two Sum\", \"difficulty\": \"Easy\"},\n",
    "    {\"id\": 2, \"title\": \"Add Two Numbers\", \"difficulty\": \"Medium\"},\n",
    "    {\"id\": 3, \"title\": \"Longest Substring Without Repeating Characters\", \"difficulty\": \"Medium\"},\n",
    "    {\"id\": 4, \"title\": \"Median of Two Sorted Arrays\", \"difficulty\": \"Hard\"},\n",
    "    {\"id\": 5, \"title\": \"Longest Palindromic Substring\", \"difficulty\": \"Medium\"}\n",
    "]\n",
    "\n",
    "# Function to generate a random problem\n",
    "def generate_random_problem():\n",
    "    problem = random.choice(leetcode_problems)\n",
    "    print(f\"Random LeetCode Problem:\")\n",
    "    print(f\"ID: {problem['id']}\")\n",
    "    print(f\"Title: {problem['title']}\")\n",
    "    print(f\"Difficulty: {problem['difficulty']}\")\n",
    "\n",
    "# Generate and display a random problem\n",
    "generate_random_problem()"
   ]
  },
  {
   "cell_type": "code",
   "execution_count": 2,
   "id": "c0f65295",
   "metadata": {},
   "outputs": [
    {
     "name": "stdout",
     "output_type": "stream",
     "text": [
      "Random LeetCode Problem:\n",
      "ID: 4\n",
      "Title: Median of Two Sorted Arrays\n",
      "Difficulty: Hard\n"
     ]
    }
   ],
   "source": [
    "# 2nd random problem generator\n",
    "def generate_random_problem_2():\n",
    "    problem = random.choice(leetcode_problems)\n",
    "    print(f\"Random LeetCode Problem:\")\n",
    "    print(f\"ID: {problem['id']}\")\n",
    "    print(f\"Title: {problem['title']}\")\n",
    "    print(f\"Difficulty: {problem['difficulty']}\")\n",
    "\n",
    "# Generate and display a random problem\n",
    "generate_random_problem_2()"
   ]
  },
  {
   "cell_type": "code",
   "execution_count": null,
   "id": "eade1e59",
   "metadata": {},
   "outputs": [],
   "source": []
  }
 ],
 "metadata": {
  "kernelspec": {
   "display_name": "dl_env",
   "language": "python",
   "name": "python3"
  },
  "language_info": {
   "codemirror_mode": {
    "name": "ipython",
    "version": 3
   },
   "file_extension": ".py",
   "mimetype": "text/x-python",
   "name": "python",
   "nbconvert_exporter": "python",
   "pygments_lexer": "ipython3",
   "version": "3.9.19"
  }
 },
 "nbformat": 4,
 "nbformat_minor": 5
}
