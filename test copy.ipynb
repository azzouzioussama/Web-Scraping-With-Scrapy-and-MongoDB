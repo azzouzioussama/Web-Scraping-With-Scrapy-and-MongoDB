{
 "cells": [
  {
   "cell_type": "code",
   "execution_count": 3,
   "id": "c8b78681",
   "metadata": {},
   "outputs": [
    {
     "name": "stdout",
     "output_type": "stream",
     "text": [
      "Random LeetCode Problem:\n",
      "ID: 3\n",
      "Title: Longest Substring Without Repeating Characters\n",
      "Difficulty: Medium\n"
     ]
    }
   ],
   "source": [
    "import random\n",
    "\n",
    "# List of random LeetCode problems\n",
    "leetcode_problems = [\n",
    "    {\"id\": 1, \"title\": \"Two Sum\", \"difficulty\": \"Easy\"},\n",
    "    {\"id\": 2, \"title\": \"Add Two Numbers\", \"difficulty\": \"Medium\"},\n",
    "    {\"id\": 3, \"title\": \"Longest Substring Without Repeating Characters\", \"difficulty\": \"Medium\"},\n",
    "    {\"id\": 4, \"title\": \"Median of Two Sorted Arrays\", \"difficulty\": \"Hard\"},\n",
    "    {\"id\": 5, \"title\": \"Longest Palindromic Substring\", \"difficulty\": \"Medium\"}\n",
    "]\n",
    "\n",
    "# Function to generate a random problem\n",
    "def generate_random_problem():\n",
    "    problem = random.choice(leetcode_problems)\n",
    "    print(f\"Random LeetCode Problem:\")\n",
    "    print(f\"ID: {problem['id']}\")\n",
    "    print(f\"Title: {problem['title']}\")\n",
    "    print(f\"Difficulty: {problem['difficulty']}\")\n",
    "\n",
    "# Generate and display a random problem\n",
    "generate_random_problem()"
   ]
  },
  {
   "cell_type": "code",
   "execution_count": 4,
   "id": "c0f65295",
   "metadata": {},
   "outputs": [
    {
     "name": "stdout",
     "output_type": "stream",
     "text": [
      "Random LeetCode Problem:\n",
      "ID: 2\n",
      "Title: Add Two Numbers\n",
      "Difficulty: Medium\n"
     ]
    }
   ],
   "source": [
    "# 2nd random problem generator\n",
    "def generate_random_problem_2():\n",
    "    problem = random.choice(leetcode_problems)\n",
    "    print(f\"Random LeetCode Problem:\")\n",
    "    print(f\"ID: {problem['id']}\")\n",
    "    print(f\"Title: {problem['title']}\")\n",
    "    print(f\"Difficulty: {problem['difficulty']}\")\n",
    "\n",
    "# Generate and display a random problem\n",
    "generate_random_problem_2()"
   ]
  },
  {
   "cell_type": "code",
   "execution_count": 5,
   "id": "eade1e59",
   "metadata": {},
   "outputs": [
    {
     "name": "stdout",
     "output_type": "stream",
     "text": [
      "Random LeetCode Problem:\n",
      "ID: 2\n",
      "Title: Add Two Numbers\n",
      "Difficulty: Medium\n"
     ]
    }
   ],
   "source": [
    "# 3rd random problem generator\n",
    "def generate_random_problem_3():\n",
    "    problem = random.choice(leetcode_problems)\n",
    "    print(f\"Random LeetCode Problem:\")\n",
    "    print(f\"ID: {problem['id']}\")\n",
    "    print(f\"Title: {problem['title']}\")\n",
    "    print(f\"Difficulty: {problem['difficulty']}\")\n",
    "\n",
    "# Generate and display a random problem\n",
    "generate_random_problem_3()"
   ]
  },
  {
   "cell_type": "code",
   "execution_count": 6,
   "id": "0581883e",
   "metadata": {},
   "outputs": [],
   "source": [
    "# solving leetcode problems\n",
    "def solve_leetcode_problem(problem):\n",
    "    print(f\"Solving LeetCode Problem:\")\n",
    "    print(f\"ID: {problem['id']}\")\n",
    "    print(f\"Title: {problem['title']}\")\n",
    "    print(f\"Difficulty: {problem['difficulty']}\")\n",
    "    # Add your solution code here\n",
    "\n",
    "#Problem 1 : Two Sum\n",
    "def two_sum(numbers, target):\n",
    "    num_dict = {}\n",
    "    for i, num in enumerate(numbers):\n",
    "        complement = target - num\n",
    "        if complement in num_dict:\n",
    "            return (num_dict[complement], i)\n",
    "        num_dict[num] = i\n",
    "    return None"
   ]
  },
  {
   "cell_type": "code",
   "execution_count": 7,
   "id": "862f6932",
   "metadata": {},
   "outputs": [],
   "source": [
    "# Problem 2 : Add Two Numbers\n",
    "def add_two_numbers(l1, l2):\n",
    "    dummy_head = ListNode(0)\n",
    "    current = dummy_head\n",
    "    carry = 0\n",
    "    while l1 or l2 or carry:\n",
    "        val1 = l1.val if l1 else 0\n",
    "        val2 = l2.val if l2 else 0\n",
    "        total = val1 + val2 + carry\n",
    "        carry = total // 10\n",
    "        current.next = ListNode(total % 10)\n",
    "        current = current.next\n",
    "        if l1:\n",
    "            l1 = l1.next\n",
    "        if l2:\n",
    "            l2 = l2.next\n",
    "    return dummy_head.next\n"
   ]
  },
  {
   "cell_type": "code",
   "execution_count": 8,
   "id": "d66b3fcd",
   "metadata": {},
   "outputs": [],
   "source": [
    "# Problem 3 : Longest Substring Without Repeating Characters\n",
    "def longest_substring(s):\n",
    "    char_dict = {}\n",
    "    left = 0\n",
    "    max_length = 0\n",
    "    for right in range(len(s)):\n",
    "        if s[right] in char_dict:\n",
    "            left = max(left, char_dict[s[right]] + 1)\n",
    "        char_dict[s[right]] = right\n",
    "        max_length = max(max_length, right - left + 1)\n",
    "    return max_length\n"
   ]
  },
  {
   "cell_type": "code",
   "execution_count": 9,
   "id": "82174c8b",
   "metadata": {},
   "outputs": [],
   "source": [
    "# Problem 4 : Median of Two Sorted Arrays\n",
    "def find_median_sorted_arrays(nums1, nums2):\n",
    "    merged = []\n",
    "    i, j = 0, 0\n",
    "    while i < len(nums1) and j < len(nums2):\n",
    "        if nums1[i] < nums2[j]:\n",
    "            merged.append(nums1[i])\n",
    "            i += 1\n",
    "        else:\n",
    "            merged.append(nums2[j])\n",
    "            j += 1\n",
    "    merged.extend(nums1[i:])\n",
    "    merged.extend(nums2[j:])\n",
    "    mid = len(merged) // 2\n",
    "    if len(merged) % 2 == 0:\n",
    "        return (merged[mid - 1] + merged[mid]) / 2\n",
    "    return merged[mid]\n"
   ]
  },
  {
   "cell_type": "code",
   "execution_count": 10,
   "id": "46af4a73",
   "metadata": {},
   "outputs": [
    {
     "name": "stdout",
     "output_type": "stream",
     "text": [
      "(0, 1)\n",
      "7 -> 0 -> 8\n",
      "3\n",
      "2\n",
      "aba\n"
     ]
    }
   ],
   "source": [
    "# Definition for singly-linked list node used in add_two_numbers\n",
    "class ListNode:\n",
    "    def __init__(self, val=0, next=None):\n",
    "        self.val = val\n",
    "        self.next = next\n",
    "    def __repr__(self):\n",
    "        return f\"{self.val} -> {self.next}\" if self.next else f\"{self.val}\"\n",
    "\n",
    "# Problem 5 : Longest Palindromic Substring\n",
    "def longest_palindrome(s):\n",
    "    def expand_around_center(left, right):\n",
    "        while left >= 0 and right < len(s) and s[left] == s[right]:\n",
    "            left -= 1\n",
    "            right += 1\n",
    "        return right - left - 1\n",
    "\n",
    "    start, end = 0, 0\n",
    "    for i in range(len(s)):\n",
    "        len1 = expand_around_center(i, i)\n",
    "        len2 = expand_around_center(i, i + 1)\n",
    "        max_len = max(len1, len2)\n",
    "        if max_len > end - start:\n",
    "            start = i - (max_len - 1) // 2\n",
    "            end = i + max_len // 2\n",
    "    return s[start:end + 1]\n",
    "\n",
    "# Example usage\n",
    "# two_sum, add_two_numbers, longest_substring, and find_median_sorted_arrays are defined in previous cells\n",
    "# Make sure to run the cells defining these functions before running this cell\n",
    "\n",
    "print(two_sum([2, 7, 11, 15], 9))\n",
    "print(add_two_numbers(ListNode(2, ListNode(4, ListNode(3))), ListNode(5, ListNode(6, ListNode(4)))))\n",
    "print(longest_substring(\"abcabcbb\"))\n",
    "print(find_median_sorted_arrays([1, 3], [2]))\n",
    "print(longest_palindrome(\"babad\"))"
   ]
  },
  {
   "cell_type": "code",
   "execution_count": 11,
   "id": "bc7d07ec",
   "metadata": {},
   "outputs": [
    {
     "name": "stdout",
     "output_type": "stream",
     "text": [
      "PAHNAPLSIIGYIR\n"
     ]
    }
   ],
   "source": [
    "# Problem 6 : Zigzag Conversion\n",
    "def zigzag_conversion(s, num_rows):\n",
    "    if num_rows == 1 or num_rows >= len(s):\n",
    "        return s\n",
    "\n",
    "    rows = [''] * num_rows\n",
    "    current_row, step = 0, 1\n",
    "\n",
    "    for char in s:\n",
    "        rows[current_row] += char\n",
    "        if current_row == 0:\n",
    "            step = 1\n",
    "        elif current_row == num_rows - 1:\n",
    "            step = -1\n",
    "        current_row += step\n",
    "\n",
    "    return ''.join(rows)\n",
    "print(zigzag_conversion(\"PAYPALISHIRING\", 3))  # Output: \"PAHNAPLSIIGYIR\"\n"
   ]
  },
  {
   "cell_type": "code",
   "execution_count": 1,
   "id": "6b819347",
   "metadata": {},
   "outputs": [
    {
     "name": "stdout",
     "output_type": "stream",
     "text": [
      "-321\n",
      "21\n",
      "0\n"
     ]
    }
   ],
   "source": [
    "# Problem 7 : Reverse Integer\n",
    "def reverse_integer(x):\n",
    "    sign = -1 if x < 0 else 1\n",
    "    x *= sign\n",
    "    reversed_x = 0\n",
    "    while x:\n",
    "        reversed_x = reversed_x * 10 + x % 10\n",
    "        x //= 10\n",
    "    reversed_x *= sign\n",
    "    if reversed_x < -2**31 or reversed_x > 2**31 - 1:\n",
    "        return 0\n",
    "    return reversed_x\n",
    "print(reverse_integer(-123))  # Output: -321\n",
    "# Add implementation for \"Reverse Integer\" problem\n",
    "print(reverse_integer(120))   # Output: 21\n",
    "# Add implementation for \"Reverse Integer\" problem\n",
    "print(reverse_integer(0))     # Output: 0"
   ]
  },
  {
   "cell_type": "code",
   "execution_count": 1,
   "id": "e634ef61",
   "metadata": {},
   "outputs": [
    {
     "name": "stdout",
     "output_type": "stream",
     "text": [
      "-42\n",
      "4193\n",
      "0\n",
      "-2147483648\n",
      "2147483647\n"
     ]
    }
   ],
   "source": [
    "# Problem 8 : String to Integer (atoi)\n",
    "def string_to_integer(s):\n",
    "    s = s.strip()\n",
    "    if not s:\n",
    "        return 0\n",
    "\n",
    "    sign = 1\n",
    "    if s[0] in ('-', '+'):\n",
    "        if s[0] == '-':\n",
    "            sign = -1\n",
    "        s = s[1:]\n",
    "\n",
    "    result = 0\n",
    "    for char in s:\n",
    "        if not char.isdigit():\n",
    "            break\n",
    "        result = result * 10 + int(char)\n",
    "        if result > 2**31 - 1:\n",
    "            break\n",
    "\n",
    "    result *= sign\n",
    "    if result < -2**31:\n",
    "        return -2**31\n",
    "    if result > 2**31 - 1:\n",
    "        return 2**31 - 1\n",
    "    return result\n",
    "print(string_to_integer(\"   -42\"))  # Output: -42\n",
    "print(string_to_integer(\"4193 with words\"))  # Output: 4193\n",
    "print(string_to_integer(\"words and 987\"))  # Output: 0\n",
    "print(string_to_integer(\"-91283472332\"))  # Output: -2147483648\n",
    "print(string_to_integer(\"91283472332\"))  # Output: 2147483647\n"
   ]
  },
  {
   "cell_type": "code",
   "execution_count": 1,
   "id": "debe0e72",
   "metadata": {},
   "outputs": [
    {
     "name": "stdout",
     "output_type": "stream",
     "text": [
      "True\n",
      "False\n",
      "False\n"
     ]
    }
   ],
   "source": [
    "# Problem 9 : Palindrome Number\n",
    "def is_palindrome(x):\n",
    "    if x < 0:\n",
    "        return False\n",
    "    original = x\n",
    "    reversed_x = 0\n",
    "    while x:\n",
    "        reversed_x = reversed_x * 10 + x % 10\n",
    "        x //= 10\n",
    "    return original == reversed_x\n",
    "print(is_palindrome(121))  # Output: True\n",
    "print(is_palindrome(-121))  # Output: False\n",
    "print(is_palindrome(10))  # Output: False"
   ]
  },
  {
   "cell_type": "code",
   "execution_count": 2,
   "id": "5999a4b8",
   "metadata": {},
   "outputs": [
    {
     "name": "stdout",
     "output_type": "stream",
     "text": [
      "False\n",
      "True\n",
      "True\n",
      "True\n",
      "False\n",
      "False\n"
     ]
    }
   ],
   "source": [
    "# Problem 10 : Regular Expression Matching\n",
    "def is_match(s, p):\n",
    "    m, n = len(s), len(p)\n",
    "    dp = [[False] * (n + 1) for _ in range(m + 1)]\n",
    "    dp[0][0] = True\n",
    "\n",
    "    for j in range(2, n + 1):\n",
    "        if p[j - 1] == '*':\n",
    "            dp[0][j] = dp[0][j - 2]\n",
    "\n",
    "    for i in range(1, m + 1):\n",
    "        for j in range(1, n + 1):\n",
    "            if p[j - 1] == s[i - 1] or p[j - 1] == '.':\n",
    "                dp[i][j] = dp[i - 1][j - 1]\n",
    "            elif p[j - 1] == '*':\n",
    "                dp[i][j] = dp[i][j - 2]\n",
    "                if p[j - 2] == s[i - 1] or p[j - 2] == '.':\n",
    "                    dp[i][j] = dp[i][j] or dp[i - 1][j]\n",
    "\n",
    "    return dp[m][n]\n",
    "print(is_match(\"aa\", \"a\"))  # Output: False\n",
    "print(is_match(\"aa\", \"a*\"))  # Output: True\n",
    "print(is_match(\"ab\", \".*\"))  # Output: True\n",
    "print(is_match(\"aab\", \"c*a*b\"))  # Output: True\n",
    "# Add implementation for \"Regular Expression Matching\" problem\n",
    "print(is_match(\"mississippi\", \"mis*is*p*.\"))  # Output: False\n",
    "# Add implementation for \"Regular Expression Matching\" problem\n",
    "print(is_match(\"ab\", \".*c\"))  # Output: False"
   ]
  },
  {
   "cell_type": "code",
   "execution_count": 1,
   "id": "77d47494",
   "metadata": {},
   "outputs": [
    {
     "name": "stdout",
     "output_type": "stream",
     "text": [
      "49\n",
      "1\n",
      "16\n",
      "2\n",
      "24\n",
      "17\n"
     ]
    }
   ],
   "source": [
    "# Problem 11 : Container With Most Water\n",
    "def max_area(height):\n",
    "    left, right = 0, len(height) - 1\n",
    "    max_area = 0\n",
    "    while left < right:\n",
    "        width = right - left\n",
    "        current_area = min(height[left], height[right]) * width\n",
    "        max_area = max(max_area, current_area)\n",
    "        if height[left] < height[right]:\n",
    "            left += 1\n",
    "        else:\n",
    "            right -= 1\n",
    "    return max_area\n",
    "print(max_area([1,8,6,2,5,4,8,3,7]))  # Output: 49\n",
    "print(max_area([1,1]))  # Output: 1\n",
    "print(max_area([4,3,2,1,4]))  # Output: 16\n",
    "print(max_area([1,2,1]))  # Output: 2\n",
    "# Add implementation for \"Container With Most Water\" problem\n",
    "print(max_area([1,3,2,5,25,24,5]))  # Output: 24\n",
    "# Add implementation for \"Container With Most Water\" problem\n",
    "print(max_area([2,3,4,5,18,17,6]))  # Output: 17"
   ]
  },
  {
   "cell_type": "code",
   "execution_count": 1,
   "id": "1273f8d6",
   "metadata": {},
   "outputs": [
    {
     "name": "stdout",
     "output_type": "stream",
     "text": [
      "III\n",
      "IV\n",
      "IX\n",
      "LVIII\n",
      "MCMXCIV\n"
     ]
    }
   ],
   "source": [
    "# Problem 12 : Integer to Roman\n",
    "def int_to_roman(num):\n",
    "    val = [\n",
    "        1000, 900, 500, 400,\n",
    "        100, 90, 50, 40,\n",
    "        10, 9, 5, 4,\n",
    "        1\n",
    "    ]\n",
    "    syms = [\n",
    "        \"M\", \"CM\", \"D\", \"CD\",\n",
    "        \"C\", \"XC\", \"L\", \"XL\",\n",
    "        \"X\", \"IX\", \"V\", \"IV\",\n",
    "        \"I\"\n",
    "    ]\n",
    "    roman_num = ''\n",
    "    i = 0\n",
    "    while num > 0:\n",
    "        for _ in range(num // val[i]):\n",
    "            roman_num += syms[i]\n",
    "            num -= val[i]\n",
    "        i += 1\n",
    "    return roman_num\n",
    "print(int_to_roman(3))    # Output: \"III\"\n",
    "print(int_to_roman(4))    # Output: \"IV\"\n",
    "print(int_to_roman(9))    # Output: \"IX\"\n",
    "print(int_to_roman(58))   # Output: \"LVIII\"\n",
    "print(int_to_roman(1994)) # Output: \"MCMXCIV\""
   ]
  },
  {
   "cell_type": "code",
   "execution_count": 2,
   "id": "2141b1ee",
   "metadata": {},
   "outputs": [
    {
     "name": "stdout",
     "output_type": "stream",
     "text": [
      "3\n",
      "4\n",
      "9\n",
      "58\n",
      "1994\n"
     ]
    }
   ],
   "source": [
    "# Problem 13 : Roman to Integer\n",
    "def roman_to_int(s):\n",
    "    roman_dict = {\n",
    "        'I': 1,\n",
    "        'V': 5,\n",
    "        'X': 10,\n",
    "        'L': 50,\n",
    "        'C': 100,\n",
    "        'D': 500,\n",
    "        'M': 1000\n",
    "    }\n",
    "    total = 0\n",
    "    prev_value = 0\n",
    "    for char in reversed(s):\n",
    "        value = roman_dict[char]\n",
    "        if value < prev_value:\n",
    "            total -= value\n",
    "        else:\n",
    "            total += value\n",
    "        prev_value = value\n",
    "    return total\n",
    "print(roman_to_int(\"III\"))      # Output: 3\n",
    "print(roman_to_int(\"IV\"))       # Output: 4\n",
    "print(roman_to_int(\"IX\"))       # Output: 9\n",
    "print(roman_to_int(\"LVIII\"))    # Output: 58\n",
    "print(roman_to_int(\"MCMXCIV\"))  # Output: 1994"
   ]
  },
  {
   "cell_type": "code",
   "execution_count": 3,
   "id": "c4908b3c",
   "metadata": {},
   "outputs": [
    {
     "name": "stdout",
     "output_type": "stream",
     "text": [
      "fl\n",
      "\n",
      "inters\n",
      "throne\n",
      "\n"
     ]
    }
   ],
   "source": [
    "# problem 14 : Longest Common Prefix\n",
    "def longest_common_prefix(strs):\n",
    "    if not strs:\n",
    "        return \"\"\n",
    "    prefix = strs[0]\n",
    "    for s in strs[1:]:\n",
    "        while not s.startswith(prefix):\n",
    "            prefix = prefix[:-1]\n",
    "            if not prefix:\n",
    "                return \"\"\n",
    "    return prefix\n",
    "print(longest_common_prefix([\"flower\",\"flow\",\"flight\"]))  # Output: \"fl\"\n",
    "print(longest_common_prefix([\"dog\",\"racecar\",\"car\"]))     # Output: \"\"  # Output: \"\"\n",
    "print(longest_common_prefix([\"interspecies\",\"interstellar\",\"interstate\"]))  # Output: \"inters\"\n",
    "print(longest_common_prefix([\"throne\",\"throne\"]))  # Output: \"throne\"\n",
    "print(longest_common_prefix([\"throne\",\"dungeon\"]))  # Output: \"\"    # Output: \"\""
   ]
  },
  {
   "cell_type": "code",
   "execution_count": 2,
   "id": "cd360990",
   "metadata": {},
   "outputs": [
    {
     "name": "stdout",
     "output_type": "stream",
     "text": [
      "[[-1, -1, 2], [-1, 0, 1]]\n",
      "[]\n",
      "[[0, 0, 0]]\n",
      "[[-2, 0, 2], [-2, 1, 1]]\n"
     ]
    }
   ],
   "source": [
    "# Problem 15 : 3Sum\n",
    "def three_sum(nums):\n",
    "    nums.sort()\n",
    "    result = []\n",
    "    for i in range(len(nums) - 2):\n",
    "        if i > 0 and nums[i] == nums[i - 1]:\n",
    "            continue\n",
    "        left, right = i + 1, len(nums) - 1\n",
    "        while left < right:\n",
    "            total = nums[i] + nums[left] + nums[right]\n",
    "            if total < 0:\n",
    "                left += 1\n",
    "            elif total > 0:\n",
    "                right -= 1\n",
    "            else:\n",
    "                result.append([nums[i], nums[left], nums[right]])\n",
    "                while left < right and nums[left] == nums[left + 1]:\n",
    "                    left += 1\n",
    "                while left < right and nums[right] == nums[right - 1]:\n",
    "                    right -= 1\n",
    "                left += 1\n",
    "                right -= 1\n",
    "    return result\n",
    "print(three_sum([-1,0,1,2,-1,-4]))  # Output: [[-1,-1,2],[-1,0,1]]\n",
    "print(three_sum([0,1,1]))         # Output: []\n",
    "print(three_sum([0,0,0]))         # Output: [[0,0,0]]\n",
    "print(three_sum([- 2,0,1,1,2]))    # Output: [[-2,1,1],[-2,0,2]]"
   ]
  },
  {
   "cell_type": "code",
   "execution_count": null,
   "id": "39c4a5f4",
   "metadata": {},
   "outputs": [],
   "source": [
    "# Problem 16 : 3Sum Closest\n",
    "def three_sum_closest(nums, target):\n",
    "    nums.sort()\n",
    "    closest_sum = float('inf')\n",
    "    for i in range(len(nums) - 2):\n",
    "        left, right = i + 1, len(nums) - 1\n",
    "        while left < right:\n",
    "            current_sum = nums[i] + nums[left] + nums[right]\n",
    "            if abs(current_sum - target) < abs(closest_sum - target):\n",
    "                closest_sum = current_sum\n",
    "            if current_sum < target:\n",
    "                left += 1\n",
    "            elif current_sum > target:\n",
    "                right -= 1\n",
    "            else:\n",
    "                return current_sum\n",
    "    return closest_sum"
   ]
  }
 ],
 "metadata": {
  "kernelspec": {
   "display_name": "dl_env",
   "language": "python",
   "name": "python3"
  },
  "language_info": {
   "codemirror_mode": {
    "name": "ipython",
    "version": 3
   },
   "file_extension": ".py",
   "mimetype": "text/x-python",
   "name": "python",
   "nbconvert_exporter": "python",
   "pygments_lexer": "ipython3",
   "version": "3.9.19"
  }
 },
 "nbformat": 4,
 "nbformat_minor": 5
}
