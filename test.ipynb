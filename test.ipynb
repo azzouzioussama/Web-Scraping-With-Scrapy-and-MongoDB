{
 "cells": [
  {
   "cell_type": "code",
   "execution_count": null,
   "id": "8a935d51",
   "metadata": {},
   "outputs": [],
   "source": [
    "text = input(\"Enter text: \")"
   ]
  },
  {
   "cell_type": "code",
   "execution_count": null,
   "id": "c5736b61",
   "metadata": {},
   "outputs": [],
   "source": [
    "def palindrome(text):\n",
    "    return text == text[::-1]"
   ]
  },
  {
   "cell_type": "code",
   "execution_count": null,
   "id": "b8041386",
   "metadata": {},
   "outputs": [],
   "source": [
    "#default > div.container-fluid.page > div > div > div > section > div:nth-child(2) > ol > li:nth-child(1) > article > h3\n",
    "#default > div.container-fluid.page > div > div > div > section > div:nth-child(2) > ol > li:nth-child(1) > article > h3 > a"
   ]
  },
  {
   "cell_type": "code",
   "execution_count": null,
   "id": "438bb578",
   "metadata": {},
   "outputs": [],
   "source": []
  }
 ],
 "metadata": {
  "kernelspec": {
   "display_name": "Python 3",
   "language": "python",
   "name": "python3"
  },
  "language_info": {
   "name": "python",
   "version": "3.11.9"
  }
 },
 "nbformat": 4,
 "nbformat_minor": 5
}
