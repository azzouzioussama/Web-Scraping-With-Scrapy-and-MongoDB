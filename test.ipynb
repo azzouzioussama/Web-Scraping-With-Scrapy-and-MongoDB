{
 "cells": [
  {
   "cell_type": "code",
   "execution_count": null,
   "id": "8a935d51",
   "metadata": {},
   "outputs": [],
   "source": [
    "text = input(\"Enter text: \")"
   ]
  },
  {
   "cell_type": "code",
   "execution_count": null,
   "id": "c5736b61",
   "metadata": {},
   "outputs": [],
   "source": [
    "def palindrome(text):\n",
    "    return text == text[::-1]"
   ]
  },
  {
   "cell_type": "code",
   "execution_count": null,
   "id": "b8041386",
   "metadata": {},
   "outputs": [],
   "source": [
    "#default > div.container-fluid.page > div > div > div > section > div:nth-child(2) > ol > li:nth-child(1) > article > h3\n",
    "#default > div.container-fluid.page > div > div > div > section > div:nth-child(2) > ol > li:nth-child(1) > article > h3 > a"
   ]
  },
  {
   "cell_type": "code",
   "execution_count": 2,
   "id": "438bb578",
   "metadata": {},
   "outputs": [
    {
     "name": "stdout",
     "output_type": "stream",
     "text": [
      "racecar is a palindrome\n",
      "madam is a palindrome\n",
      "hello is not a palindrome\n",
      "level is a palindrome\n",
      "world is not a palindrome\n",
      "python is not a palindrome\n",
      "civic is a palindrome\n",
      "deified is a palindrome\n",
      "radar is a palindrome\n",
      "refer is a palindrome\n"
     ]
    }
   ],
   "source": [
    "def palindrome2(text):\n",
    "    for i in range(len(text)):\n",
    "        if text[i] != text[len(text) - i - 1]:\n",
    "            return False\n",
    "    return True\n",
    "\n",
    "test_cases = [\n",
    "    \"racecar\",\n",
    "    \"madam\",\n",
    "    \"hello\",\n",
    "    \"level\",\n",
    "    \"world\",\n",
    "    \"python\",\n",
    "    \"civic\",\n",
    "    \"deified\",\n",
    "    \"radar\",\n",
    "    \"refer\"\n",
    "]\n",
    "for test in test_cases:\n",
    "    if palindrome2(test):\n",
    "        print(f\"{test} is a palindrome\")\n",
    "    else:\n",
    "        print(f\"{test} is not a palindrome\")"
   ]
  },
  {
   "cell_type": "code",
   "execution_count": null,
   "id": "a3a31b4d",
   "metadata": {},
   "outputs": [],
   "source": [
    "# another leetcode problem\n",
    "\n",
    "# this time we will build another algorithm for another leetcode problem\n",
    "\n",
    "# this time we will build another algorithm for another leetcode problem\n",
    "\n",
    "# this problem is about finding the longest common prefix in an array of strings\n",
    "\n",
    "def longest_common_prefix(strs):\n",
    "    if not strs:\n",
    "        return \"\"\n",
    "    prefix = strs[0]\n",
    "    for i in range(1, len(strs)):\n",
    "        while strs[i].find(prefix) != 0:\n",
    "            prefix = prefix[:-1]\n",
    "            if not prefix:\n",
    "                return \"\"\n",
    "    return prefix"
   ]
  },
  {
   "cell_type": "code",
   "execution_count": null,
   "id": "5c87a382",
   "metadata": {},
   "outputs": [
    {
     "ename": "NameError",
     "evalue": "name 'longest_common_prefix' is not defined",
     "output_type": "error",
     "traceback": [
      "\u001b[0;31m---------------------------------------------------------------------------\u001b[0m",
      "\u001b[0;31mNameError\u001b[0m                                 Traceback (most recent call last)",
      "Cell \u001b[0;32mIn[3], line 1\u001b[0m\n\u001b[0;32m----> 1\u001b[0m \u001b[38;5;28mprint\u001b[39m(\u001b[43mlongest_common_prefix\u001b[49m([\u001b[38;5;124m\"\u001b[39m\u001b[38;5;124mflower\u001b[39m\u001b[38;5;124m\"\u001b[39m, \u001b[38;5;124m\"\u001b[39m\u001b[38;5;124mflow\u001b[39m\u001b[38;5;124m\"\u001b[39m, \u001b[38;5;124m\"\u001b[39m\u001b[38;5;124mflight\u001b[39m\u001b[38;5;124m\"\u001b[39m]))\n",
      "\u001b[0;31mNameError\u001b[0m: name 'longest_common_prefix' is not defined"
     ]
    }
   ],
   "source": []
  },
  {
   "cell_type": "code",
   "execution_count": 4,
   "id": "41aaeef5",
   "metadata": {},
   "outputs": [
    {
     "name": "stdout",
     "output_type": "stream",
     "text": [
      "this\n"
     ]
    }
   ],
   "source": [
    "print('this')"
   ]
  },
  {
   "cell_type": "code",
   "execution_count": null,
   "id": "ad8eff30",
   "metadata": {},
   "outputs": [],
   "source": []
  }
 ],
 "metadata": {
  "kernelspec": {
   "display_name": "Python 3",
   "language": "python",
   "name": "python3"
  },
  "language_info": {
   "codemirror_mode": {
    "name": "ipython",
    "version": 3
   },
   "file_extension": ".py",
   "mimetype": "text/x-python",
   "name": "python",
   "nbconvert_exporter": "python",
   "pygments_lexer": "ipython3",
   "version": "3.11.9"
  }
 },
 "nbformat": 4,
 "nbformat_minor": 5
}
