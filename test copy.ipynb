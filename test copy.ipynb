{
 "cells": [
  {
   "cell_type": "code",
   "execution_count": 3,
   "id": "c8b78681",
   "metadata": {},
   "outputs": [
    {
     "name": "stdout",
     "output_type": "stream",
     "text": [
      "Random LeetCode Problem:\n",
      "ID: 3\n",
      "Title: Longest Substring Without Repeating Characters\n",
      "Difficulty: Medium\n"
     ]
    }
   ],
   "source": [
    "import random\n",
    "\n",
    "# List of random LeetCode problems\n",
    "leetcode_problems = [\n",
    "    {\"id\": 1, \"title\": \"Two Sum\", \"difficulty\": \"Easy\"},\n",
    "    {\"id\": 2, \"title\": \"Add Two Numbers\", \"difficulty\": \"Medium\"},\n",
    "    {\"id\": 3, \"title\": \"Longest Substring Without Repeating Characters\", \"difficulty\": \"Medium\"},\n",
    "    {\"id\": 4, \"title\": \"Median of Two Sorted Arrays\", \"difficulty\": \"Hard\"},\n",
    "    {\"id\": 5, \"title\": \"Longest Palindromic Substring\", \"difficulty\": \"Medium\"}\n",
    "]\n",
    "\n",
    "# Function to generate a random problem\n",
    "def generate_random_problem():\n",
    "    problem = random.choice(leetcode_problems)\n",
    "    print(f\"Random LeetCode Problem:\")\n",
    "    print(f\"ID: {problem['id']}\")\n",
    "    print(f\"Title: {problem['title']}\")\n",
    "    print(f\"Difficulty: {problem['difficulty']}\")\n",
    "\n",
    "# Generate and display a random problem\n",
    "generate_random_problem()"
   ]
  },
  {
   "cell_type": "code",
   "execution_count": 4,
   "id": "c0f65295",
   "metadata": {},
   "outputs": [
    {
     "name": "stdout",
     "output_type": "stream",
     "text": [
      "Random LeetCode Problem:\n",
      "ID: 2\n",
      "Title: Add Two Numbers\n",
      "Difficulty: Medium\n"
     ]
    }
   ],
   "source": [
    "# 2nd random problem generator\n",
    "def generate_random_problem_2():\n",
    "    problem = random.choice(leetcode_problems)\n",
    "    print(f\"Random LeetCode Problem:\")\n",
    "    print(f\"ID: {problem['id']}\")\n",
    "    print(f\"Title: {problem['title']}\")\n",
    "    print(f\"Difficulty: {problem['difficulty']}\")\n",
    "\n",
    "# Generate and display a random problem\n",
    "generate_random_problem_2()"
   ]
  },
  {
   "cell_type": "code",
   "execution_count": 5,
   "id": "eade1e59",
   "metadata": {},
   "outputs": [
    {
     "name": "stdout",
     "output_type": "stream",
     "text": [
      "Random LeetCode Problem:\n",
      "ID: 2\n",
      "Title: Add Two Numbers\n",
      "Difficulty: Medium\n"
     ]
    }
   ],
   "source": [
    "# 3rd random problem generator\n",
    "def generate_random_problem_3():\n",
    "    problem = random.choice(leetcode_problems)\n",
    "    print(f\"Random LeetCode Problem:\")\n",
    "    print(f\"ID: {problem['id']}\")\n",
    "    print(f\"Title: {problem['title']}\")\n",
    "    print(f\"Difficulty: {problem['difficulty']}\")\n",
    "\n",
    "# Generate and display a random problem\n",
    "generate_random_problem_3()"
   ]
  },
  {
   "cell_type": "code",
   "execution_count": 6,
   "id": "0581883e",
   "metadata": {},
   "outputs": [],
   "source": [
    "# solving leetcode problems\n",
    "def solve_leetcode_problem(problem):\n",
    "    print(f\"Solving LeetCode Problem:\")\n",
    "    print(f\"ID: {problem['id']}\")\n",
    "    print(f\"Title: {problem['title']}\")\n",
    "    print(f\"Difficulty: {problem['difficulty']}\")\n",
    "    # Add your solution code here\n",
    "\n",
    "#Problem 1 : Two Sum\n",
    "def two_sum(numbers, target):\n",
    "    num_dict = {}\n",
    "    for i, num in enumerate(numbers):\n",
    "        complement = target - num\n",
    "        if complement in num_dict:\n",
    "            return (num_dict[complement], i)\n",
    "        num_dict[num] = i\n",
    "    return None"
   ]
  },
  {
   "cell_type": "code",
   "execution_count": 7,
   "id": "862f6932",
   "metadata": {},
   "outputs": [],
   "source": [
    "# Problem 2 : Add Two Numbers\n",
    "def add_two_numbers(l1, l2):\n",
    "    dummy_head = ListNode(0)\n",
    "    current = dummy_head\n",
    "    carry = 0\n",
    "    while l1 or l2 or carry:\n",
    "        val1 = l1.val if l1 else 0\n",
    "        val2 = l2.val if l2 else 0\n",
    "        total = val1 + val2 + carry\n",
    "        carry = total // 10\n",
    "        current.next = ListNode(total % 10)\n",
    "        current = current.next\n",
    "        if l1:\n",
    "            l1 = l1.next\n",
    "        if l2:\n",
    "            l2 = l2.next\n",
    "    return dummy_head.next\n"
   ]
  },
  {
   "cell_type": "code",
   "execution_count": 8,
   "id": "d66b3fcd",
   "metadata": {},
   "outputs": [],
   "source": [
    "# Problem 3 : Longest Substring Without Repeating Characters\n",
    "def longest_substring(s):\n",
    "    char_dict = {}\n",
    "    left = 0\n",
    "    max_length = 0\n",
    "    for right in range(len(s)):\n",
    "        if s[right] in char_dict:\n",
    "            left = max(left, char_dict[s[right]] + 1)\n",
    "        char_dict[s[right]] = right\n",
    "        max_length = max(max_length, right - left + 1)\n",
    "    return max_length\n"
   ]
  },
  {
   "cell_type": "code",
   "execution_count": 9,
   "id": "82174c8b",
   "metadata": {},
   "outputs": [],
   "source": [
    "# Problem 4 : Median of Two Sorted Arrays\n",
    "def find_median_sorted_arrays(nums1, nums2):\n",
    "    merged = []\n",
    "    i, j = 0, 0\n",
    "    while i < len(nums1) and j < len(nums2):\n",
    "        if nums1[i] < nums2[j]:\n",
    "            merged.append(nums1[i])\n",
    "            i += 1\n",
    "        else:\n",
    "            merged.append(nums2[j])\n",
    "            j += 1\n",
    "    merged.extend(nums1[i:])\n",
    "    merged.extend(nums2[j:])\n",
    "    mid = len(merged) // 2\n",
    "    if len(merged) % 2 == 0:\n",
    "        return (merged[mid - 1] + merged[mid]) / 2\n",
    "    return merged[mid]\n"
   ]
  },
  {
   "cell_type": "code",
   "execution_count": 10,
   "id": "46af4a73",
   "metadata": {},
   "outputs": [
    {
     "name": "stdout",
     "output_type": "stream",
     "text": [
      "(0, 1)\n",
      "7 -> 0 -> 8\n",
      "3\n",
      "2\n",
      "aba\n"
     ]
    }
   ],
   "source": [
    "# Definition for singly-linked list node used in add_two_numbers\n",
    "class ListNode:\n",
    "    def __init__(self, val=0, next=None):\n",
    "        self.val = val\n",
    "        self.next = next\n",
    "    def __repr__(self):\n",
    "        return f\"{self.val} -> {self.next}\" if self.next else f\"{self.val}\"\n",
    "\n",
    "# Problem 5 : Longest Palindromic Substring\n",
    "def longest_palindrome(s):\n",
    "    def expand_around_center(left, right):\n",
    "        while left >= 0 and right < len(s) and s[left] == s[right]:\n",
    "            left -= 1\n",
    "            right += 1\n",
    "        return right - left - 1\n",
    "\n",
    "    start, end = 0, 0\n",
    "    for i in range(len(s)):\n",
    "        len1 = expand_around_center(i, i)\n",
    "        len2 = expand_around_center(i, i + 1)\n",
    "        max_len = max(len1, len2)\n",
    "        if max_len > end - start:\n",
    "            start = i - (max_len - 1) // 2\n",
    "            end = i + max_len // 2\n",
    "    return s[start:end + 1]\n",
    "\n",
    "# Example usage\n",
    "# two_sum, add_two_numbers, longest_substring, and find_median_sorted_arrays are defined in previous cells\n",
    "# Make sure to run the cells defining these functions before running this cell\n",
    "\n",
    "print(two_sum([2, 7, 11, 15], 9))\n",
    "print(add_two_numbers(ListNode(2, ListNode(4, ListNode(3))), ListNode(5, ListNode(6, ListNode(4)))))\n",
    "print(longest_substring(\"abcabcbb\"))\n",
    "print(find_median_sorted_arrays([1, 3], [2]))\n",
    "print(longest_palindrome(\"babad\"))"
   ]
  },
  {
   "cell_type": "code",
   "execution_count": null,
   "id": "bc7d07ec",
   "metadata": {},
   "outputs": [],
   "source": [
    "# Problem 6 : Zigzag Conversion\n",
    "def zigzag_conversion(s, num_rows):\n",
    "    if num_rows == 1 or num_rows >= len(s):\n",
    "        return s\n",
    "\n",
    "    rows = [''] * num_rows\n",
    "    current_row, step = 0, 1\n",
    "\n",
    "    for char in s:\n",
    "        rows[current_row] += char\n",
    "        if current_row == 0:\n",
    "            step = 1\n",
    "        elif current_row == num_rows - 1:\n",
    "            step = -1\n",
    "        current_row += step\n",
    "\n",
    "    return ''.join(rows)"
   ]
  }
 ],
 "metadata": {
  "kernelspec": {
   "display_name": "dl_env",
   "language": "python",
   "name": "python3"
  },
  "language_info": {
   "codemirror_mode": {
    "name": "ipython",
    "version": 3
   },
   "file_extension": ".py",
   "mimetype": "text/x-python",
   "name": "python",
   "nbconvert_exporter": "python",
   "pygments_lexer": "ipython3",
   "version": "3.9.19"
  }
 },
 "nbformat": 4,
 "nbformat_minor": 5
}
