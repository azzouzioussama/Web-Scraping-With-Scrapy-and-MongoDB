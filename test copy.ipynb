{
 "cells": [
  {
   "cell_type": "code",
   "execution_count": 1,
   "id": "c8b78681",
   "metadata": {},
   "outputs": [
    {
     "name": "stdout",
     "output_type": "stream",
     "text": [
      "Random LeetCode Problem:\n",
      "ID: 4\n",
      "Title: Median of Two Sorted Arrays\n",
      "Difficulty: Hard\n"
     ]
    }
   ],
   "source": [
    "import random\n",
    "\n",
    "# List of random LeetCode problems\n",
    "leetcode_problems = [\n",
    "    {\"id\": 1, \"title\": \"Two Sum\", \"difficulty\": \"Easy\"},\n",
    "    {\"id\": 2, \"title\": \"Add Two Numbers\", \"difficulty\": \"Medium\"},\n",
    "    {\"id\": 3, \"title\": \"Longest Substring Without Repeating Characters\", \"difficulty\": \"Medium\"},\n",
    "    {\"id\": 4, \"title\": \"Median of Two Sorted Arrays\", \"difficulty\": \"Hard\"},\n",
    "    {\"id\": 5, \"title\": \"Longest Palindromic Substring\", \"difficulty\": \"Medium\"}\n",
    "]\n",
    "\n",
    "# Function to generate a random problem\n",
    "def generate_random_problem():\n",
    "    problem = random.choice(leetcode_problems)\n",
    "    print(f\"Random LeetCode Problem:\")\n",
    "    print(f\"ID: {problem['id']}\")\n",
    "    print(f\"Title: {problem['title']}\")\n",
    "    print(f\"Difficulty: {problem['difficulty']}\")\n",
    "\n",
    "# Generate and display a random problem\n",
    "generate_random_problem()"
   ]
  },
  {
   "cell_type": "code",
   "execution_count": 2,
   "id": "c0f65295",
   "metadata": {},
   "outputs": [
    {
     "name": "stdout",
     "output_type": "stream",
     "text": [
      "Random LeetCode Problem:\n",
      "ID: 4\n",
      "Title: Median of Two Sorted Arrays\n",
      "Difficulty: Hard\n"
     ]
    }
   ],
   "source": [
    "# 2nd random problem generator\n",
    "def generate_random_problem_2():\n",
    "    problem = random.choice(leetcode_problems)\n",
    "    print(f\"Random LeetCode Problem:\")\n",
    "    print(f\"ID: {problem['id']}\")\n",
    "    print(f\"Title: {problem['title']}\")\n",
    "    print(f\"Difficulty: {problem['difficulty']}\")\n",
    "\n",
    "# Generate and display a random problem\n",
    "generate_random_problem_2()"
   ]
  },
  {
   "cell_type": "code",
   "execution_count": 3,
   "id": "eade1e59",
   "metadata": {},
   "outputs": [
    {
     "name": "stdout",
     "output_type": "stream",
     "text": [
      "Random LeetCode Problem:\n",
      "ID: 5\n",
      "Title: Longest Palindromic Substring\n",
      "Difficulty: Medium\n"
     ]
    }
   ],
   "source": [
    "# 3rd random problem generator\n",
    "def generate_random_problem_3():\n",
    "    problem = random.choice(leetcode_problems)\n",
    "    print(f\"Random LeetCode Problem:\")\n",
    "    print(f\"ID: {problem['id']}\")\n",
    "    print(f\"Title: {problem['title']}\")\n",
    "    print(f\"Difficulty: {problem['difficulty']}\")\n",
    "\n",
    "# Generate and display a random problem\n",
    "generate_random_problem_3()"
   ]
  },
  {
   "cell_type": "code",
   "execution_count": 4,
   "id": "0581883e",
   "metadata": {},
   "outputs": [],
   "source": [
    "# solving leetcode problems\n",
    "def solve_leetcode_problem(problem):\n",
    "    print(f\"Solving LeetCode Problem:\")\n",
    "    print(f\"ID: {problem['id']}\")\n",
    "    print(f\"Title: {problem['title']}\")\n",
    "    print(f\"Difficulty: {problem['difficulty']}\")\n",
    "    # Add your solution code here\n",
    "\n",
    "#Problem 1 : Two Sum\n",
    "def two_sum(numbers, target):\n",
    "    num_dict = {}\n",
    "    for i, num in enumerate(numbers):\n",
    "        complement = target - num\n",
    "        if complement in num_dict:\n",
    "            return (num_dict[complement], i)\n",
    "        num_dict[num] = i\n",
    "    return None"
   ]
  },
  {
   "cell_type": "code",
   "execution_count": 5,
   "id": "862f6932",
   "metadata": {},
   "outputs": [],
   "source": [
    "# Problem 2 : Add Two Numbers\n",
    "def add_two_numbers(l1, l2):\n",
    "    dummy_head = ListNode(0)\n",
    "    current = dummy_head\n",
    "    carry = 0\n",
    "    while l1 or l2 or carry:\n",
    "        val1 = l1.val if l1 else 0\n",
    "        val2 = l2.val if l2 else 0\n",
    "        total = val1 + val2 + carry\n",
    "        carry = total // 10\n",
    "        current.next = ListNode(total % 10)\n",
    "        current = current.next\n",
    "        if l1:\n",
    "            l1 = l1.next\n",
    "        if l2:\n",
    "            l2 = l2.next\n",
    "    return dummy_head.next\n"
   ]
  },
  {
   "cell_type": "code",
   "execution_count": null,
   "id": "d66b3fcd",
   "metadata": {},
   "outputs": [],
   "source": [
    "# Problem 3 : Longest Substring Without Repeating Characters\n",
    "def longest_substring(s):\n",
    "    char_dict = {}\n",
    "    left = 0\n",
    "    max_length = 0\n",
    "    for right in range(len(s)):\n",
    "        if s[right] in char_dict:\n",
    "            left = max(left, char_dict[s[right]] + 1)\n",
    "        char_dict[s[right]] = right\n",
    "        max_length = max(max_length, right - left + 1)\n",
    "    return max_length\n"
   ]
  }
 ],
 "metadata": {
  "kernelspec": {
   "display_name": "dl_env",
   "language": "python",
   "name": "python3"
  },
  "language_info": {
   "codemirror_mode": {
    "name": "ipython",
    "version": 3
   },
   "file_extension": ".py",
   "mimetype": "text/x-python",
   "name": "python",
   "nbconvert_exporter": "python",
   "pygments_lexer": "ipython3",
   "version": "3.9.19"
  }
 },
 "nbformat": 4,
 "nbformat_minor": 5
}
